{
 "cells": [
  {
   "cell_type": "markdown",
   "id": "943a8ea3",
   "metadata": {},
   "source": [
    "# GRIP Task 1: Prediction Using Supervised ML"
   ]
  },
  {
   "cell_type": "markdown",
   "id": "e481abab",
   "metadata": {},
   "source": [
    "## Task Description\n",
    "\n",
    "<b><i> A simple Linear Regression Machine Learning(ML) Model that will predict the percentage of marks that a student is expected to get given the no. of hours he or she studies per day. <br/>\n",
    "Dataset Link - http://bit.ly/w-data\n",
    "<b><i>"
   ]
  },
  {
   "cell_type": "markdown",
   "id": "55e9b25f",
   "metadata": {},
   "source": [
    " ## Author : Gourav Nag"
   ]
  },
  {
   "cell_type": "markdown",
   "id": "a6362310",
   "metadata": {},
   "source": [
    "## Importing Libraries and Modules"
   ]
  },
  {
   "cell_type": "code",
   "execution_count": 57,
   "id": "2f2a1698",
   "metadata": {},
   "outputs": [
    {
     "name": "stdout",
     "output_type": "stream",
     "text": [
      "Libraries and Modules are imported successfully !\n"
     ]
    }
   ],
   "source": [
    "# numpy for creation of numpy arrays and scientific computation\n",
    "import numpy as np\n",
    "\n",
    "# pandas for data frames and data manipulation\n",
    "import pandas as pd\n",
    "\n",
    "# matplotlib for plotting graphs and data visualization\n",
    "import matplotlib.pyplot as plt\n",
    "\n",
    "# train_test_split for splitting the data into training and testing sets\n",
    "from sklearn.model_selection import train_test_split\n",
    "\n",
    "# Linear regression model for building and training the model\n",
    "from sklearn.linear_model import LinearRegression\n",
    "\n",
    "# r2 score and mean absolute error for model evaluation\n",
    "from sklearn.metrics import r2_score, mean_absolute_error\n",
    "\n",
    "print('Libraries and Modules are imported successfully !')"
   ]
  },
  {
   "cell_type": "markdown",
   "id": "d1279e47",
   "metadata": {},
   "source": [
    "## Importing sample dataset and inspecting the data"
   ]
  },
  {
   "cell_type": "code",
   "execution_count": 58,
   "id": "4c0ff497",
   "metadata": {},
   "outputs": [
    {
     "name": "stdout",
     "output_type": "stream",
     "text": [
      "Dataset imported successfully !\n"
     ]
    }
   ],
   "source": [
    "# importing the data from the given link and creating a data frame object\n",
    "\n",
    "url = 'http://bit.ly/w-data'\n",
    "df = pd.read_csv(url)\n",
    "print('Dataset imported successfully !')"
   ]
  },
  {
   "cell_type": "code",
   "execution_count": 59,
   "id": "3bb0d561",
   "metadata": {},
   "outputs": [
    {
     "data": {
      "text/html": [
       "<div>\n",
       "<style scoped>\n",
       "    .dataframe tbody tr th:only-of-type {\n",
       "        vertical-align: middle;\n",
       "    }\n",
       "\n",
       "    .dataframe tbody tr th {\n",
       "        vertical-align: top;\n",
       "    }\n",
       "\n",
       "    .dataframe thead th {\n",
       "        text-align: right;\n",
       "    }\n",
       "</style>\n",
       "<table border=\"1\" class=\"dataframe\">\n",
       "  <thead>\n",
       "    <tr style=\"text-align: right;\">\n",
       "      <th></th>\n",
       "      <th>Hours</th>\n",
       "      <th>Scores</th>\n",
       "    </tr>\n",
       "  </thead>\n",
       "  <tbody>\n",
       "    <tr>\n",
       "      <th>0</th>\n",
       "      <td>2.5</td>\n",
       "      <td>21</td>\n",
       "    </tr>\n",
       "    <tr>\n",
       "      <th>1</th>\n",
       "      <td>5.1</td>\n",
       "      <td>47</td>\n",
       "    </tr>\n",
       "    <tr>\n",
       "      <th>22</th>\n",
       "      <td>3.8</td>\n",
       "      <td>35</td>\n",
       "    </tr>\n",
       "    <tr>\n",
       "      <th>9</th>\n",
       "      <td>2.7</td>\n",
       "      <td>25</td>\n",
       "    </tr>\n",
       "    <tr>\n",
       "      <th>20</th>\n",
       "      <td>2.7</td>\n",
       "      <td>30</td>\n",
       "    </tr>\n",
       "  </tbody>\n",
       "</table>\n",
       "</div>"
      ],
      "text/plain": [
       "    Hours  Scores\n",
       "0     2.5      21\n",
       "1     5.1      47\n",
       "22    3.8      35\n",
       "9     2.7      25\n",
       "20    2.7      30"
      ]
     },
     "execution_count": 59,
     "metadata": {},
     "output_type": "execute_result"
    }
   ],
   "source": [
    "# printing sample data\n",
    "\n",
    "df.sample(5)"
   ]
  },
  {
   "cell_type": "code",
   "execution_count": 60,
   "id": "aae984e0",
   "metadata": {},
   "outputs": [
    {
     "data": {
      "text/plain": [
       "(25, 2)"
      ]
     },
     "execution_count": 60,
     "metadata": {},
     "output_type": "execute_result"
    }
   ],
   "source": [
    "# viewing the shape of the data frame object\n",
    "\n",
    "df.shape"
   ]
  },
  {
   "cell_type": "code",
   "execution_count": 61,
   "id": "13913154",
   "metadata": {},
   "outputs": [
    {
     "name": "stdout",
     "output_type": "stream",
     "text": [
      "<class 'pandas.core.frame.DataFrame'>\n",
      "RangeIndex: 25 entries, 0 to 24\n",
      "Data columns (total 2 columns):\n",
      " #   Column  Non-Null Count  Dtype  \n",
      "---  ------  --------------  -----  \n",
      " 0   Hours   25 non-null     float64\n",
      " 1   Scores  25 non-null     int64  \n",
      "dtypes: float64(1), int64(1)\n",
      "memory usage: 528.0 bytes\n"
     ]
    }
   ],
   "source": [
    "# viewing the information about the data frame\n",
    "\n",
    "df.info()"
   ]
  },
  {
   "cell_type": "code",
   "execution_count": 62,
   "id": "555aa893",
   "metadata": {},
   "outputs": [
    {
     "data": {
      "text/plain": [
       "Hours     0\n",
       "Scores    0\n",
       "dtype: int64"
      ]
     },
     "execution_count": 62,
     "metadata": {},
     "output_type": "execute_result"
    }
   ],
   "source": [
    "# counting null values\n",
    "\n",
    "df.isnull().sum()"
   ]
  },
  {
   "cell_type": "code",
   "execution_count": 63,
   "id": "d5041bd0",
   "metadata": {},
   "outputs": [
    {
     "data": {
      "text/html": [
       "<div>\n",
       "<style scoped>\n",
       "    .dataframe tbody tr th:only-of-type {\n",
       "        vertical-align: middle;\n",
       "    }\n",
       "\n",
       "    .dataframe tbody tr th {\n",
       "        vertical-align: top;\n",
       "    }\n",
       "\n",
       "    .dataframe thead th {\n",
       "        text-align: right;\n",
       "    }\n",
       "</style>\n",
       "<table border=\"1\" class=\"dataframe\">\n",
       "  <thead>\n",
       "    <tr style=\"text-align: right;\">\n",
       "      <th></th>\n",
       "      <th>Hours</th>\n",
       "      <th>Scores</th>\n",
       "    </tr>\n",
       "  </thead>\n",
       "  <tbody>\n",
       "    <tr>\n",
       "      <th>count</th>\n",
       "      <td>25.000000</td>\n",
       "      <td>25.000000</td>\n",
       "    </tr>\n",
       "    <tr>\n",
       "      <th>mean</th>\n",
       "      <td>5.012000</td>\n",
       "      <td>51.480000</td>\n",
       "    </tr>\n",
       "    <tr>\n",
       "      <th>std</th>\n",
       "      <td>2.525094</td>\n",
       "      <td>25.286887</td>\n",
       "    </tr>\n",
       "    <tr>\n",
       "      <th>min</th>\n",
       "      <td>1.100000</td>\n",
       "      <td>17.000000</td>\n",
       "    </tr>\n",
       "    <tr>\n",
       "      <th>25%</th>\n",
       "      <td>2.700000</td>\n",
       "      <td>30.000000</td>\n",
       "    </tr>\n",
       "    <tr>\n",
       "      <th>50%</th>\n",
       "      <td>4.800000</td>\n",
       "      <td>47.000000</td>\n",
       "    </tr>\n",
       "    <tr>\n",
       "      <th>75%</th>\n",
       "      <td>7.400000</td>\n",
       "      <td>75.000000</td>\n",
       "    </tr>\n",
       "    <tr>\n",
       "      <th>max</th>\n",
       "      <td>9.200000</td>\n",
       "      <td>95.000000</td>\n",
       "    </tr>\n",
       "  </tbody>\n",
       "</table>\n",
       "</div>"
      ],
      "text/plain": [
       "           Hours     Scores\n",
       "count  25.000000  25.000000\n",
       "mean    5.012000  51.480000\n",
       "std     2.525094  25.286887\n",
       "min     1.100000  17.000000\n",
       "25%     2.700000  30.000000\n",
       "50%     4.800000  47.000000\n",
       "75%     7.400000  75.000000\n",
       "max     9.200000  95.000000"
      ]
     },
     "execution_count": 63,
     "metadata": {},
     "output_type": "execute_result"
    }
   ],
   "source": [
    "# viewing statistical information\n",
    "\n",
    "df.describe()"
   ]
  },
  {
   "cell_type": "markdown",
   "id": "9653ff17",
   "metadata": {},
   "source": [
    "## Data Visualization"
   ]
  },
  {
   "cell_type": "code",
   "execution_count": 64,
   "id": "b1d6bfe4",
   "metadata": {},
   "outputs": [
    {
     "data": {
      "image/png": "[encoded data removed]",
      "text/plain": [
       "<Figure size 720x576 with 1 Axes>"
      ]
     },
     "metadata": {
      "needs_background": "light"
     },
     "output_type": "display_data"
    }
   ],
   "source": [
    "# plotting the distributions of Hours and Scores and finding the relationship between them\n",
    "\n",
    "df.plot(x = 'Hours', y = 'Scores', style = 'o', figsize = (10, 8), color = 'blue')\n",
    "plt.xlabel('Hours/day')\n",
    "plt.ylabel('Percentage Score')\n",
    "plt.title('Hours/day Vs Percentage Score')\n",
    "plt.grid()\n",
    "plt.show()"
   ]
  },
  {
   "cell_type": "markdown",
   "id": "89cbc1da",
   "metadata": {},
   "source": [
    "<b>So, We can clearly see that their exist a positive linear relationship between the no. of hours that a student studies per day and the percentage score.<b>"
   ]
  },
  {
   "cell_type": "markdown",
   "id": "b34e4f06",
   "metadata": {},
   "source": [
    "## Data Splitting and Preparation"
   ]
  },
  {
   "cell_type": "code",
   "execution_count": 65,
   "id": "d3aaa1da",
   "metadata": {},
   "outputs": [],
   "source": [
    "# preparing the data for independant and dependant variables\n",
    "\n",
    "X = df.iloc[: , : -1].values # independant variable containing all rows of all the columns except the last column\n",
    "y = df.iloc[: , 1].values # dependant variable containing all rows of only the last column"
   ]
  },
  {
   "cell_type": "code",
   "execution_count": 66,
   "id": "ffd62a11",
   "metadata": {},
   "outputs": [
    {
     "name": "stdout",
     "output_type": "stream",
     "text": [
      "Data splitting completed successfully !\n"
     ]
    }
   ],
   "source": [
    "# splitting the data into training and testing sets\n",
    "\n",
    "X_train, X_test, y_train, y_test = train_test_split(X, y, test_size = 0.15, random_state = 2)\n",
    "print('Data splitting completed successfully !')"
   ]
  },
  {
   "cell_type": "markdown",
   "id": "f6c6225d",
   "metadata": {},
   "source": [
    "## Model Training"
   ]
  },
  {
   "cell_type": "code",
   "execution_count": 67,
   "id": "42e53ba5",
   "metadata": {},
   "outputs": [
    {
     "name": "stdout",
     "output_type": "stream",
     "text": [
      "Model training completed successfully !\n"
     ]
    }
   ],
   "source": [
    "# training the linear regression model\n",
    "\n",
    "lr = LinearRegression()\n",
    "lr.fit(X_train, y_train)\n",
    "print('Model training completed successfully !')"
   ]
  },
  {
   "cell_type": "code",
   "execution_count": 68,
   "id": "2f60f5b9",
   "metadata": {},
   "outputs": [
    {
     "data": {
      "image/png": "[encoded data removed]",
      "text/plain": [
       "<Figure size 720x576 with 1 Axes>"
      ]
     },
     "metadata": {
      "needs_background": "light"
     },
     "output_type": "display_data"
    }
   ],
   "source": [
    "# plotting the regression line\n",
    "\n",
    "# equation of linear regression : y = mx + c\n",
    "regr_line = lr.coef_ * X + lr.intercept_\n",
    "\n",
    "plt.figure(figsize = (10, 8))\n",
    "plt.scatter(X, y, marker = 'x', color = 'red')\n",
    "plt.plot(X, regr_line, color = 'blue')\n",
    "plt.xlabel('Hours/day')\n",
    "plt.ylabel('Percentage Score')\n",
    "plt.title('Hours/day Vs Percentage Score')\n",
    "plt.show()"
   ]
  },
  {
   "cell_type": "markdown",
   "id": "ff9773e6",
   "metadata": {},
   "source": [
    "## Model Prediction"
   ]
  },
  {
   "cell_type": "code",
   "execution_count": 69,
   "id": "a8968420",
   "metadata": {},
   "outputs": [
    {
     "data": {
      "text/html": [
       "<div>\n",
       "<style scoped>\n",
       "    .dataframe tbody tr th:only-of-type {\n",
       "        vertical-align: middle;\n",
       "    }\n",
       "\n",
       "    .dataframe tbody tr th {\n",
       "        vertical-align: top;\n",
       "    }\n",
       "\n",
       "    .dataframe thead th {\n",
       "        text-align: right;\n",
       "    }\n",
       "</style>\n",
       "<table border=\"1\" class=\"dataframe\">\n",
       "  <thead>\n",
       "    <tr style=\"text-align: right;\">\n",
       "      <th></th>\n",
       "      <th>y_actual</th>\n",
       "      <th>y_predicted</th>\n",
       "    </tr>\n",
       "  </thead>\n",
       "  <tbody>\n",
       "    <tr>\n",
       "      <th>0</th>\n",
       "      <td>21</td>\n",
       "      <td>26.381122</td>\n",
       "    </tr>\n",
       "    <tr>\n",
       "      <th>1</th>\n",
       "      <td>47</td>\n",
       "      <td>52.470463</td>\n",
       "    </tr>\n",
       "    <tr>\n",
       "      <th>2</th>\n",
       "      <td>27</td>\n",
       "      <td>33.405176</td>\n",
       "    </tr>\n",
       "    <tr>\n",
       "      <th>3</th>\n",
       "      <td>75</td>\n",
       "      <td>86.587294</td>\n",
       "    </tr>\n",
       "    <tr>\n",
       "      <th>4</th>\n",
       "      <td>30</td>\n",
       "      <td>36.415484</td>\n",
       "    </tr>\n",
       "  </tbody>\n",
       "</table>\n",
       "</div>"
      ],
      "text/plain": [
       "   y_actual  y_predicted\n",
       "0        21    26.381122\n",
       "1        47    52.470463\n",
       "2        27    33.405176\n",
       "3        75    86.587294\n",
       "4        30    36.415484"
      ]
     },
     "execution_count": 69,
     "metadata": {},
     "output_type": "execute_result"
    }
   ],
   "source": [
    "# compairing the actual and the predicted value\n",
    "\n",
    "y_predicted = lr.predict(X)\n",
    "y_compare = pd.DataFrame({'y_actual': y, 'y_predicted': y_predicted})\n",
    "y_compare.head()"
   ]
  },
  {
   "cell_type": "code",
   "execution_count": 70,
   "id": "805c343d",
   "metadata": {},
   "outputs": [
    {
     "name": "stdout",
     "output_type": "stream",
     "text": [
      "Model Predictions:\n",
      "----- ------------\n",
      "\n",
      "No. of hours/day: 9.25\n",
      "Predicted Percentage Score: 94.11306590841731\n"
     ]
    }
   ],
   "source": [
    "# model prediction\n",
    "\n",
    "hours = np.array(9.25).reshape(1, -1)\n",
    "score_pred = lr.predict(hours)\n",
    "print('Model Predictions:')\n",
    "print('----- ------------\\n')\n",
    "print('No. of hours/day: {}'.format(hours[0][0]))\n",
    "print('Predicted Percentage Score: {}'.format(score_pred[0]))"
   ]
  },
  {
   "cell_type": "markdown",
   "id": "dd860a41",
   "metadata": {},
   "source": [
    "## Model Performance and Evaluation"
   ]
  },
  {
   "cell_type": "code",
   "execution_count": 71,
   "id": "6e061775",
   "metadata": {},
   "outputs": [
    {
     "name": "stdout",
     "output_type": "stream",
     "text": [
      "Model Performance:\n",
      "----- ------------\n",
      "\n",
      "R2 Score: 97.21254393805228\n",
      "Mean Absolute Error(MAE): 4.824737422199172\n"
     ]
    }
   ],
   "source": [
    "# model accuracy\n",
    "\n",
    "y_pred = lr.predict(X_test)\n",
    "model_accuracy = r2_score(y_test, y_pred)\n",
    "model_error = mean_absolute_error(y_test, y_pred)\n",
    "print('Model Performance:')\n",
    "print('----- ------------\\n')\n",
    "print('R2 Score: {}'.format(model_accuracy * 100))\n",
    "print('Mean Absolute Error(MAE): {}'.format(model_error))"
   ]
  },
  {
   "cell_type": "code",
   "execution_count": null,
   "id": "a8450e23",
   "metadata": {},
   "outputs": [],
   "source": []
  },
  {
   "cell_type": "code",
   "execution_count": null,
   "id": "caa2fb65",
   "metadata": {},
   "outputs": [],
   "source": []
  }
 ],
 "metadata": {
  "kernelspec": {
   "display_name": "Python 3 (ipykernel)",
   "language": "python",
   "name": "python3"
  },
  "language_info": {
   "codemirror_mode": {
    "name": "ipython",
    "version": 3
   },
   "file_extension": ".py",
   "mimetype": "text/x-python",
   "name": "python",
   "nbconvert_exporter": "python",
   "pygments_lexer": "ipython3",
   "version": "3.9.7"
  },
  "toc": {
   "base_numbering": 1,
   "nav_menu": {},
   "number_sections": true,
   "sideBar": true,
   "skip_h1_title": false,
   "title_cell": "Table of Contents",
   "title_sidebar": "Contents",
   "toc_cell": false,
   "toc_position": {},
   "toc_section_display": true,
   "toc_window_display": false
  }
 },
 "nbformat": 4,
 "nbformat_minor": 5
}
